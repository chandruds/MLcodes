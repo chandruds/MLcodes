{
 "cells": [
  {
   "cell_type": "code",
   "execution_count": 1,
   "metadata": {},
   "outputs": [],
   "source": [
    "import numpy as np\n",
    "import pandas as pd\n",
    "import matplotlib.pyplot as plt\n",
    "%matplotlib inline\n",
    "import seaborn as sns"
   ]
  },
  {
   "cell_type": "code",
   "execution_count": 99,
   "metadata": {},
   "outputs": [],
   "source": [
    "LoanPredict = pd.read_csv(\"Loan.csv\")"
   ]
  },
  {
   "cell_type": "code",
   "execution_count": 4,
   "metadata": {},
   "outputs": [
    {
     "data": {
      "text/plain": [
       "'C:\\\\Users\\\\User'"
      ]
     },
     "execution_count": 4,
     "metadata": {},
     "output_type": "execute_result"
    }
   ],
   "source": [
    "pwd"
   ]
  },
  {
   "cell_type": "code",
   "execution_count": 100,
   "metadata": {
    "scrolled": true
   },
   "outputs": [
    {
     "name": "stdout",
     "output_type": "stream",
     "text": [
      "<class 'pandas.core.frame.DataFrame'>\n",
      "RangeIndex: 614 entries, 0 to 613\n",
      "Data columns (total 13 columns):\n",
      "Loan_ID              614 non-null object\n",
      "Gender               601 non-null object\n",
      "Married              611 non-null object\n",
      "Dependents           599 non-null object\n",
      "Education            614 non-null object\n",
      "Self_Employed        582 non-null object\n",
      "ApplicantIncome      614 non-null int64\n",
      "CoapplicantIncome    614 non-null float64\n",
      "LoanAmount           592 non-null float64\n",
      "Loan_Amount_Term     600 non-null float64\n",
      "Credit_History       564 non-null float64\n",
      "Property_Area        614 non-null object\n",
      "Loan_Status          614 non-null object\n",
      "dtypes: float64(4), int64(1), object(8)\n",
      "memory usage: 62.4+ KB\n"
     ]
    }
   ],
   "source": [
    "LoanPredict.info()"
   ]
  },
  {
   "cell_type": "code",
   "execution_count": 101,
   "metadata": {
    "scrolled": true
   },
   "outputs": [
    {
     "data": {
      "text/html": [
       "<div>\n",
       "<style scoped>\n",
       "    .dataframe tbody tr th:only-of-type {\n",
       "        vertical-align: middle;\n",
       "    }\n",
       "\n",
       "    .dataframe tbody tr th {\n",
       "        vertical-align: top;\n",
       "    }\n",
       "\n",
       "    .dataframe thead th {\n",
       "        text-align: right;\n",
       "    }\n",
       "</style>\n",
       "<table border=\"1\" class=\"dataframe\">\n",
       "  <thead>\n",
       "    <tr style=\"text-align: right;\">\n",
       "      <th></th>\n",
       "      <th>ApplicantIncome</th>\n",
       "      <th>CoapplicantIncome</th>\n",
       "      <th>LoanAmount</th>\n",
       "      <th>Loan_Amount_Term</th>\n",
       "      <th>Credit_History</th>\n",
       "    </tr>\n",
       "  </thead>\n",
       "  <tbody>\n",
       "    <tr>\n",
       "      <th>ApplicantIncome</th>\n",
       "      <td>1.000000</td>\n",
       "      <td>-0.116605</td>\n",
       "      <td>0.570909</td>\n",
       "      <td>-0.045306</td>\n",
       "      <td>-0.014715</td>\n",
       "    </tr>\n",
       "    <tr>\n",
       "      <th>CoapplicantIncome</th>\n",
       "      <td>-0.116605</td>\n",
       "      <td>1.000000</td>\n",
       "      <td>0.188619</td>\n",
       "      <td>-0.059878</td>\n",
       "      <td>-0.002056</td>\n",
       "    </tr>\n",
       "    <tr>\n",
       "      <th>LoanAmount</th>\n",
       "      <td>0.570909</td>\n",
       "      <td>0.188619</td>\n",
       "      <td>1.000000</td>\n",
       "      <td>0.039447</td>\n",
       "      <td>-0.008433</td>\n",
       "    </tr>\n",
       "    <tr>\n",
       "      <th>Loan_Amount_Term</th>\n",
       "      <td>-0.045306</td>\n",
       "      <td>-0.059878</td>\n",
       "      <td>0.039447</td>\n",
       "      <td>1.000000</td>\n",
       "      <td>0.001470</td>\n",
       "    </tr>\n",
       "    <tr>\n",
       "      <th>Credit_History</th>\n",
       "      <td>-0.014715</td>\n",
       "      <td>-0.002056</td>\n",
       "      <td>-0.008433</td>\n",
       "      <td>0.001470</td>\n",
       "      <td>1.000000</td>\n",
       "    </tr>\n",
       "  </tbody>\n",
       "</table>\n",
       "</div>"
      ],
      "text/plain": [
       "                   ApplicantIncome  CoapplicantIncome  LoanAmount  \\\n",
       "ApplicantIncome           1.000000          -0.116605    0.570909   \n",
       "CoapplicantIncome        -0.116605           1.000000    0.188619   \n",
       "LoanAmount                0.570909           0.188619    1.000000   \n",
       "Loan_Amount_Term         -0.045306          -0.059878    0.039447   \n",
       "Credit_History           -0.014715          -0.002056   -0.008433   \n",
       "\n",
       "                   Loan_Amount_Term  Credit_History  \n",
       "ApplicantIncome           -0.045306       -0.014715  \n",
       "CoapplicantIncome         -0.059878       -0.002056  \n",
       "LoanAmount                 0.039447       -0.008433  \n",
       "Loan_Amount_Term           1.000000        0.001470  \n",
       "Credit_History             0.001470        1.000000  "
      ]
     },
     "execution_count": 101,
     "metadata": {},
     "output_type": "execute_result"
    }
   ],
   "source": [
    "LoanPredict.corr()"
   ]
  },
  {
   "cell_type": "code",
   "execution_count": 102,
   "metadata": {
    "scrolled": true
   },
   "outputs": [
    {
     "data": {
      "text/html": [
       "<div>\n",
       "<style scoped>\n",
       "    .dataframe tbody tr th:only-of-type {\n",
       "        vertical-align: middle;\n",
       "    }\n",
       "\n",
       "    .dataframe tbody tr th {\n",
       "        vertical-align: top;\n",
       "    }\n",
       "\n",
       "    .dataframe thead th {\n",
       "        text-align: right;\n",
       "    }\n",
       "</style>\n",
       "<table border=\"1\" class=\"dataframe\">\n",
       "  <thead>\n",
       "    <tr style=\"text-align: right;\">\n",
       "      <th></th>\n",
       "      <th>Loan_ID</th>\n",
       "      <th>Gender</th>\n",
       "      <th>Married</th>\n",
       "      <th>Dependents</th>\n",
       "      <th>Education</th>\n",
       "      <th>Self_Employed</th>\n",
       "      <th>ApplicantIncome</th>\n",
       "      <th>CoapplicantIncome</th>\n",
       "      <th>LoanAmount</th>\n",
       "      <th>Loan_Amount_Term</th>\n",
       "      <th>Credit_History</th>\n",
       "      <th>Property_Area</th>\n",
       "      <th>Loan_Status</th>\n",
       "    </tr>\n",
       "  </thead>\n",
       "  <tbody>\n",
       "    <tr>\n",
       "      <th>0</th>\n",
       "      <td>LP001002</td>\n",
       "      <td>Male</td>\n",
       "      <td>No</td>\n",
       "      <td>0</td>\n",
       "      <td>Graduate</td>\n",
       "      <td>No</td>\n",
       "      <td>5849</td>\n",
       "      <td>0.0</td>\n",
       "      <td>NaN</td>\n",
       "      <td>360.0</td>\n",
       "      <td>1.0</td>\n",
       "      <td>Urban</td>\n",
       "      <td>Y</td>\n",
       "    </tr>\n",
       "    <tr>\n",
       "      <th>1</th>\n",
       "      <td>LP001003</td>\n",
       "      <td>Male</td>\n",
       "      <td>Yes</td>\n",
       "      <td>1</td>\n",
       "      <td>Graduate</td>\n",
       "      <td>No</td>\n",
       "      <td>4583</td>\n",
       "      <td>1508.0</td>\n",
       "      <td>128.0</td>\n",
       "      <td>360.0</td>\n",
       "      <td>1.0</td>\n",
       "      <td>Rural</td>\n",
       "      <td>N</td>\n",
       "    </tr>\n",
       "    <tr>\n",
       "      <th>2</th>\n",
       "      <td>LP001005</td>\n",
       "      <td>Male</td>\n",
       "      <td>Yes</td>\n",
       "      <td>0</td>\n",
       "      <td>Graduate</td>\n",
       "      <td>Yes</td>\n",
       "      <td>3000</td>\n",
       "      <td>0.0</td>\n",
       "      <td>66.0</td>\n",
       "      <td>360.0</td>\n",
       "      <td>1.0</td>\n",
       "      <td>Urban</td>\n",
       "      <td>Y</td>\n",
       "    </tr>\n",
       "    <tr>\n",
       "      <th>3</th>\n",
       "      <td>LP001006</td>\n",
       "      <td>Male</td>\n",
       "      <td>Yes</td>\n",
       "      <td>0</td>\n",
       "      <td>Not Graduate</td>\n",
       "      <td>No</td>\n",
       "      <td>2583</td>\n",
       "      <td>2358.0</td>\n",
       "      <td>120.0</td>\n",
       "      <td>360.0</td>\n",
       "      <td>1.0</td>\n",
       "      <td>Urban</td>\n",
       "      <td>Y</td>\n",
       "    </tr>\n",
       "    <tr>\n",
       "      <th>4</th>\n",
       "      <td>LP001008</td>\n",
       "      <td>Male</td>\n",
       "      <td>No</td>\n",
       "      <td>0</td>\n",
       "      <td>Graduate</td>\n",
       "      <td>No</td>\n",
       "      <td>6000</td>\n",
       "      <td>0.0</td>\n",
       "      <td>141.0</td>\n",
       "      <td>360.0</td>\n",
       "      <td>1.0</td>\n",
       "      <td>Urban</td>\n",
       "      <td>Y</td>\n",
       "    </tr>\n",
       "  </tbody>\n",
       "</table>\n",
       "</div>"
      ],
      "text/plain": [
       "    Loan_ID Gender Married Dependents     Education Self_Employed  \\\n",
       "0  LP001002   Male      No          0      Graduate            No   \n",
       "1  LP001003   Male     Yes          1      Graduate            No   \n",
       "2  LP001005   Male     Yes          0      Graduate           Yes   \n",
       "3  LP001006   Male     Yes          0  Not Graduate            No   \n",
       "4  LP001008   Male      No          0      Graduate            No   \n",
       "\n",
       "   ApplicantIncome  CoapplicantIncome  LoanAmount  Loan_Amount_Term  \\\n",
       "0             5849                0.0         NaN             360.0   \n",
       "1             4583             1508.0       128.0             360.0   \n",
       "2             3000                0.0        66.0             360.0   \n",
       "3             2583             2358.0       120.0             360.0   \n",
       "4             6000                0.0       141.0             360.0   \n",
       "\n",
       "   Credit_History Property_Area Loan_Status  \n",
       "0             1.0         Urban           Y  \n",
       "1             1.0         Rural           N  \n",
       "2             1.0         Urban           Y  \n",
       "3             1.0         Urban           Y  \n",
       "4             1.0         Urban           Y  "
      ]
     },
     "execution_count": 102,
     "metadata": {},
     "output_type": "execute_result"
    }
   ],
   "source": [
    "LoanPredict.head()"
   ]
  },
  {
   "cell_type": "code",
   "execution_count": 103,
   "metadata": {},
   "outputs": [],
   "source": [
    "from sklearn.preprocessing import LabelEncoder"
   ]
  },
  {
   "cell_type": "code",
   "execution_count": 104,
   "metadata": {},
   "outputs": [],
   "source": [
    "TargetEncod = LabelEncoder()"
   ]
  },
  {
   "cell_type": "code",
   "execution_count": 105,
   "metadata": {},
   "outputs": [],
   "source": [
    "LoanPredict[\"Loan_Status\"] = TargetEncod.fit_transform(LoanPredict[\"Loan_Status\"])"
   ]
  },
  {
   "cell_type": "code",
   "execution_count": 106,
   "metadata": {},
   "outputs": [],
   "source": [
    "LoanPredict.drop('Loan_ID',axis = 1,inplace=True)"
   ]
  },
  {
   "cell_type": "code",
   "execution_count": 107,
   "metadata": {
    "scrolled": true
   },
   "outputs": [
    {
     "data": {
      "text/plain": [
       "32"
      ]
     },
     "execution_count": 107,
     "metadata": {},
     "output_type": "execute_result"
    }
   ],
   "source": [
    "LoanPredict['Self_Employed'].isnull().sum()"
   ]
  },
  {
   "cell_type": "code",
   "execution_count": 108,
   "metadata": {
    "scrolled": true
   },
   "outputs": [
    {
     "data": {
      "text/html": [
       "<div>\n",
       "<style scoped>\n",
       "    .dataframe tbody tr th:only-of-type {\n",
       "        vertical-align: middle;\n",
       "    }\n",
       "\n",
       "    .dataframe tbody tr th {\n",
       "        vertical-align: top;\n",
       "    }\n",
       "\n",
       "    .dataframe thead th {\n",
       "        text-align: right;\n",
       "    }\n",
       "</style>\n",
       "<table border=\"1\" class=\"dataframe\">\n",
       "  <thead>\n",
       "    <tr style=\"text-align: right;\">\n",
       "      <th>Self_Employed</th>\n",
       "      <th>No</th>\n",
       "      <th>Yes</th>\n",
       "    </tr>\n",
       "    <tr>\n",
       "      <th>Education</th>\n",
       "      <th></th>\n",
       "      <th></th>\n",
       "    </tr>\n",
       "  </thead>\n",
       "  <tbody>\n",
       "    <tr>\n",
       "      <th>Graduate</th>\n",
       "      <td>389</td>\n",
       "      <td>65</td>\n",
       "    </tr>\n",
       "    <tr>\n",
       "      <th>Not Graduate</th>\n",
       "      <td>111</td>\n",
       "      <td>17</td>\n",
       "    </tr>\n",
       "  </tbody>\n",
       "</table>\n",
       "</div>"
      ],
      "text/plain": [
       "Self_Employed   No  Yes\n",
       "Education              \n",
       "Graduate       389   65\n",
       "Not Graduate   111   17"
      ]
     },
     "execution_count": 108,
     "metadata": {},
     "output_type": "execute_result"
    }
   ],
   "source": [
    "pd.crosstab(LoanPredict.Education,LoanPredict.Self_Employed)"
   ]
  },
  {
   "cell_type": "code",
   "execution_count": 109,
   "metadata": {
    "scrolled": true
   },
   "outputs": [
    {
     "data": {
      "text/html": [
       "<div>\n",
       "<style scoped>\n",
       "    .dataframe tbody tr th:only-of-type {\n",
       "        vertical-align: middle;\n",
       "    }\n",
       "\n",
       "    .dataframe tbody tr th {\n",
       "        vertical-align: top;\n",
       "    }\n",
       "\n",
       "    .dataframe thead th {\n",
       "        text-align: right;\n",
       "    }\n",
       "</style>\n",
       "<table border=\"1\" class=\"dataframe\">\n",
       "  <thead>\n",
       "    <tr style=\"text-align: right;\">\n",
       "      <th></th>\n",
       "      <th>Gender</th>\n",
       "      <th>Married</th>\n",
       "      <th>Dependents</th>\n",
       "      <th>Education</th>\n",
       "      <th>Self_Employed</th>\n",
       "      <th>ApplicantIncome</th>\n",
       "      <th>CoapplicantIncome</th>\n",
       "      <th>LoanAmount</th>\n",
       "      <th>Loan_Amount_Term</th>\n",
       "      <th>Credit_History</th>\n",
       "      <th>Property_Area</th>\n",
       "      <th>Loan_Status</th>\n",
       "    </tr>\n",
       "  </thead>\n",
       "  <tbody>\n",
       "    <tr>\n",
       "      <th>23</th>\n",
       "      <td>NaN</td>\n",
       "      <td>Yes</td>\n",
       "      <td>2</td>\n",
       "      <td>Not Graduate</td>\n",
       "      <td>No</td>\n",
       "      <td>3365</td>\n",
       "      <td>1917.0</td>\n",
       "      <td>112.0</td>\n",
       "      <td>360.0</td>\n",
       "      <td>0.0</td>\n",
       "      <td>Rural</td>\n",
       "      <td>0</td>\n",
       "    </tr>\n",
       "    <tr>\n",
       "      <th>126</th>\n",
       "      <td>NaN</td>\n",
       "      <td>Yes</td>\n",
       "      <td>3+</td>\n",
       "      <td>Graduate</td>\n",
       "      <td>No</td>\n",
       "      <td>23803</td>\n",
       "      <td>0.0</td>\n",
       "      <td>370.0</td>\n",
       "      <td>360.0</td>\n",
       "      <td>1.0</td>\n",
       "      <td>Rural</td>\n",
       "      <td>1</td>\n",
       "    </tr>\n",
       "    <tr>\n",
       "      <th>171</th>\n",
       "      <td>NaN</td>\n",
       "      <td>Yes</td>\n",
       "      <td>3+</td>\n",
       "      <td>Graduate</td>\n",
       "      <td>No</td>\n",
       "      <td>51763</td>\n",
       "      <td>0.0</td>\n",
       "      <td>700.0</td>\n",
       "      <td>300.0</td>\n",
       "      <td>1.0</td>\n",
       "      <td>Urban</td>\n",
       "      <td>1</td>\n",
       "    </tr>\n",
       "    <tr>\n",
       "      <th>188</th>\n",
       "      <td>NaN</td>\n",
       "      <td>Yes</td>\n",
       "      <td>0</td>\n",
       "      <td>Graduate</td>\n",
       "      <td>Yes</td>\n",
       "      <td>674</td>\n",
       "      <td>5296.0</td>\n",
       "      <td>168.0</td>\n",
       "      <td>360.0</td>\n",
       "      <td>1.0</td>\n",
       "      <td>Rural</td>\n",
       "      <td>1</td>\n",
       "    </tr>\n",
       "    <tr>\n",
       "      <th>314</th>\n",
       "      <td>NaN</td>\n",
       "      <td>Yes</td>\n",
       "      <td>0</td>\n",
       "      <td>Graduate</td>\n",
       "      <td>No</td>\n",
       "      <td>2473</td>\n",
       "      <td>1843.0</td>\n",
       "      <td>159.0</td>\n",
       "      <td>360.0</td>\n",
       "      <td>1.0</td>\n",
       "      <td>Rural</td>\n",
       "      <td>0</td>\n",
       "    </tr>\n",
       "    <tr>\n",
       "      <th>334</th>\n",
       "      <td>NaN</td>\n",
       "      <td>Yes</td>\n",
       "      <td>1</td>\n",
       "      <td>Graduate</td>\n",
       "      <td>Yes</td>\n",
       "      <td>9833</td>\n",
       "      <td>1833.0</td>\n",
       "      <td>182.0</td>\n",
       "      <td>180.0</td>\n",
       "      <td>1.0</td>\n",
       "      <td>Urban</td>\n",
       "      <td>1</td>\n",
       "    </tr>\n",
       "    <tr>\n",
       "      <th>460</th>\n",
       "      <td>NaN</td>\n",
       "      <td>Yes</td>\n",
       "      <td>0</td>\n",
       "      <td>Graduate</td>\n",
       "      <td>Yes</td>\n",
       "      <td>2083</td>\n",
       "      <td>4083.0</td>\n",
       "      <td>160.0</td>\n",
       "      <td>360.0</td>\n",
       "      <td>NaN</td>\n",
       "      <td>Semiurban</td>\n",
       "      <td>1</td>\n",
       "    </tr>\n",
       "    <tr>\n",
       "      <th>467</th>\n",
       "      <td>NaN</td>\n",
       "      <td>Yes</td>\n",
       "      <td>0</td>\n",
       "      <td>Graduate</td>\n",
       "      <td>No</td>\n",
       "      <td>16692</td>\n",
       "      <td>0.0</td>\n",
       "      <td>110.0</td>\n",
       "      <td>360.0</td>\n",
       "      <td>1.0</td>\n",
       "      <td>Semiurban</td>\n",
       "      <td>1</td>\n",
       "    </tr>\n",
       "    <tr>\n",
       "      <th>477</th>\n",
       "      <td>NaN</td>\n",
       "      <td>Yes</td>\n",
       "      <td>2</td>\n",
       "      <td>Graduate</td>\n",
       "      <td>No</td>\n",
       "      <td>2873</td>\n",
       "      <td>1872.0</td>\n",
       "      <td>132.0</td>\n",
       "      <td>360.0</td>\n",
       "      <td>0.0</td>\n",
       "      <td>Semiurban</td>\n",
       "      <td>0</td>\n",
       "    </tr>\n",
       "    <tr>\n",
       "      <th>507</th>\n",
       "      <td>NaN</td>\n",
       "      <td>No</td>\n",
       "      <td>0</td>\n",
       "      <td>Graduate</td>\n",
       "      <td>No</td>\n",
       "      <td>3583</td>\n",
       "      <td>0.0</td>\n",
       "      <td>96.0</td>\n",
       "      <td>360.0</td>\n",
       "      <td>1.0</td>\n",
       "      <td>Urban</td>\n",
       "      <td>0</td>\n",
       "    </tr>\n",
       "    <tr>\n",
       "      <th>576</th>\n",
       "      <td>NaN</td>\n",
       "      <td>Yes</td>\n",
       "      <td>0</td>\n",
       "      <td>Graduate</td>\n",
       "      <td>No</td>\n",
       "      <td>3087</td>\n",
       "      <td>2210.0</td>\n",
       "      <td>136.0</td>\n",
       "      <td>360.0</td>\n",
       "      <td>0.0</td>\n",
       "      <td>Semiurban</td>\n",
       "      <td>0</td>\n",
       "    </tr>\n",
       "    <tr>\n",
       "      <th>588</th>\n",
       "      <td>NaN</td>\n",
       "      <td>No</td>\n",
       "      <td>0</td>\n",
       "      <td>Graduate</td>\n",
       "      <td>No</td>\n",
       "      <td>4750</td>\n",
       "      <td>0.0</td>\n",
       "      <td>94.0</td>\n",
       "      <td>360.0</td>\n",
       "      <td>1.0</td>\n",
       "      <td>Semiurban</td>\n",
       "      <td>1</td>\n",
       "    </tr>\n",
       "    <tr>\n",
       "      <th>592</th>\n",
       "      <td>NaN</td>\n",
       "      <td>No</td>\n",
       "      <td>3+</td>\n",
       "      <td>Graduate</td>\n",
       "      <td>Yes</td>\n",
       "      <td>9357</td>\n",
       "      <td>0.0</td>\n",
       "      <td>292.0</td>\n",
       "      <td>360.0</td>\n",
       "      <td>1.0</td>\n",
       "      <td>Semiurban</td>\n",
       "      <td>1</td>\n",
       "    </tr>\n",
       "  </tbody>\n",
       "</table>\n",
       "</div>"
      ],
      "text/plain": [
       "    Gender Married Dependents     Education Self_Employed  ApplicantIncome  \\\n",
       "23     NaN     Yes          2  Not Graduate            No             3365   \n",
       "126    NaN     Yes         3+      Graduate            No            23803   \n",
       "171    NaN     Yes         3+      Graduate            No            51763   \n",
       "188    NaN     Yes          0      Graduate           Yes              674   \n",
       "314    NaN     Yes          0      Graduate            No             2473   \n",
       "334    NaN     Yes          1      Graduate           Yes             9833   \n",
       "460    NaN     Yes          0      Graduate           Yes             2083   \n",
       "467    NaN     Yes          0      Graduate            No            16692   \n",
       "477    NaN     Yes          2      Graduate            No             2873   \n",
       "507    NaN      No          0      Graduate            No             3583   \n",
       "576    NaN     Yes          0      Graduate            No             3087   \n",
       "588    NaN      No          0      Graduate            No             4750   \n",
       "592    NaN      No         3+      Graduate           Yes             9357   \n",
       "\n",
       "     CoapplicantIncome  LoanAmount  Loan_Amount_Term  Credit_History  \\\n",
       "23              1917.0       112.0             360.0             0.0   \n",
       "126                0.0       370.0             360.0             1.0   \n",
       "171                0.0       700.0             300.0             1.0   \n",
       "188             5296.0       168.0             360.0             1.0   \n",
       "314             1843.0       159.0             360.0             1.0   \n",
       "334             1833.0       182.0             180.0             1.0   \n",
       "460             4083.0       160.0             360.0             NaN   \n",
       "467                0.0       110.0             360.0             1.0   \n",
       "477             1872.0       132.0             360.0             0.0   \n",
       "507                0.0        96.0             360.0             1.0   \n",
       "576             2210.0       136.0             360.0             0.0   \n",
       "588                0.0        94.0             360.0             1.0   \n",
       "592                0.0       292.0             360.0             1.0   \n",
       "\n",
       "    Property_Area  Loan_Status  \n",
       "23          Rural            0  \n",
       "126         Rural            1  \n",
       "171         Urban            1  \n",
       "188         Rural            1  \n",
       "314         Rural            0  \n",
       "334         Urban            1  \n",
       "460     Semiurban            1  \n",
       "467     Semiurban            1  \n",
       "477     Semiurban            0  \n",
       "507         Urban            0  \n",
       "576     Semiurban            0  \n",
       "588     Semiurban            1  \n",
       "592     Semiurban            1  "
      ]
     },
     "execution_count": 109,
     "metadata": {},
     "output_type": "execute_result"
    }
   ],
   "source": [
    "LoanPredict[LoanPredict['Gender'].isnull()]"
   ]
  },
  {
   "cell_type": "code",
   "execution_count": 52,
   "metadata": {},
   "outputs": [],
   "source": [
    "import pandas_profiling"
   ]
  },
  {
   "cell_type": "code",
   "execution_count": 56,
   "metadata": {},
   "outputs": [],
   "source": [
    "profile = pandas_profiling.ProfileReport(LoanPredict)"
   ]
  },
  {
   "cell_type": "code",
   "execution_count": 62,
   "metadata": {},
   "outputs": [],
   "source": [
    "profile.to_file(outputfile='profile.html')"
   ]
  },
  {
   "cell_type": "code",
   "execution_count": 75,
   "metadata": {},
   "outputs": [
    {
     "data": {
      "text/plain": [
       "[]"
      ]
     },
     "execution_count": 75,
     "metadata": {},
     "output_type": "execute_result"
    }
   ],
   "source": [
    "RejectedVar = profile.get_rejected_variables()\n",
    "RejectedVar"
   ]
  },
  {
   "cell_type": "code",
   "execution_count": 72,
   "metadata": {
    "scrolled": true
   },
   "outputs": [
    {
     "data": {
      "text/plain": [
       "[]"
      ]
     },
     "execution_count": 72,
     "metadata": {},
     "output_type": "execute_result"
    }
   ],
   "source": [
    "RejectedVar"
   ]
  },
  {
   "cell_type": "code",
   "execution_count": 114,
   "metadata": {
    "scrolled": false
   },
   "outputs": [],
   "source": [
    "LoanPredict['Gender'].fillna(LoanPredict['Gender'].mode()[0],inplace=True)"
   ]
  },
  {
   "cell_type": "code",
   "execution_count": 123,
   "metadata": {},
   "outputs": [],
   "source": [
    "LoanPredict['Married'].fillna(LoanPredict['Married'].mode()[0],inplace = True)"
   ]
  },
  {
   "cell_type": "code",
   "execution_count": 127,
   "metadata": {},
   "outputs": [],
   "source": [
    "LoanPredict['Dependents'].fillna(LoanPredict['Dependents'].mode()[0],inplace = True)"
   ]
  },
  {
   "cell_type": "code",
   "execution_count": 129,
   "metadata": {},
   "outputs": [],
   "source": [
    "LoanPredict['Self_Employed'].fillna(LoanPredict['Self_Employed'].mode()[0],inplace = True)"
   ]
  },
  {
   "cell_type": "code",
   "execution_count": 132,
   "metadata": {},
   "outputs": [],
   "source": [
    "LoanPredict['LoanAmount'].fillna(LoanPredict['LoanAmount'].mode()[0],inplace = True)"
   ]
  },
  {
   "cell_type": "code",
   "execution_count": 136,
   "metadata": {},
   "outputs": [],
   "source": [
    "LoanPredict['Loan_Amount_Term'].fillna(LoanPredict['Loan_Amount_Term'].mode()[0],inplace = True)"
   ]
  },
  {
   "cell_type": "code",
   "execution_count": 140,
   "metadata": {},
   "outputs": [],
   "source": [
    "LoanPredict['Credit_History'].fillna(LoanPredict['Credit_History'].mode()[0],inplace = True)"
   ]
  },
  {
   "cell_type": "code",
   "execution_count": 141,
   "metadata": {},
   "outputs": [
    {
     "data": {
      "text/plain": [
       "Gender               0\n",
       "Married              0\n",
       "Dependents           0\n",
       "Education            0\n",
       "Self_Employed        0\n",
       "ApplicantIncome      0\n",
       "CoapplicantIncome    0\n",
       "LoanAmount           0\n",
       "Loan_Amount_Term     0\n",
       "Credit_History       0\n",
       "Property_Area        0\n",
       "Loan_Status          0\n",
       "dtype: int64"
      ]
     },
     "execution_count": 141,
     "metadata": {},
     "output_type": "execute_result"
    }
   ],
   "source": [
    "LoanPredict.isna().sum()"
   ]
  },
  {
   "cell_type": "code",
   "execution_count": 82,
   "metadata": {
    "scrolled": true
   },
   "outputs": [
    {
     "name": "stdout",
     "output_type": "stream",
     "text": [
      "                 ApplicantIncome  LoanAmount\n",
      "ApplicantIncome         1.000000    0.570909\n",
      "LoanAmount              0.570909    1.000000\n"
     ]
    },
    {
     "data": {
      "image/png": "[encoded data removed]",
      "text/plain": [
       "<Figure size 800x550 with 1 Axes>"
      ]
     },
     "metadata": {},
     "output_type": "display_data"
    }
   ],
   "source": [
    "LoanPredict.plot(kind='scatter',x='ApplicantIncome',y='LoanAmount')\n",
    "print(LoanPredict[['ApplicantIncome','LoanAmount']].corr())"
   ]
  },
  {
   "cell_type": "code",
   "execution_count": 142,
   "metadata": {
    "scrolled": true
   },
   "outputs": [
    {
     "data": {
      "text/html": [
       "<div>\n",
       "<style scoped>\n",
       "    .dataframe tbody tr th:only-of-type {\n",
       "        vertical-align: middle;\n",
       "    }\n",
       "\n",
       "    .dataframe tbody tr th {\n",
       "        vertical-align: top;\n",
       "    }\n",
       "\n",
       "    .dataframe thead th {\n",
       "        text-align: right;\n",
       "    }\n",
       "</style>\n",
       "<table border=\"1\" class=\"dataframe\">\n",
       "  <thead>\n",
       "    <tr style=\"text-align: right;\">\n",
       "      <th></th>\n",
       "      <th>ApplicantIncome</th>\n",
       "      <th>CoapplicantIncome</th>\n",
       "      <th>LoanAmount</th>\n",
       "      <th>Loan_Amount_Term</th>\n",
       "      <th>Credit_History</th>\n",
       "      <th>Loan_Status</th>\n",
       "    </tr>\n",
       "  </thead>\n",
       "  <tbody>\n",
       "    <tr>\n",
       "      <th>ApplicantIncome</th>\n",
       "      <td>1.000000</td>\n",
       "      <td>-0.116605</td>\n",
       "      <td>0.564698</td>\n",
       "      <td>-0.046531</td>\n",
       "      <td>-0.018615</td>\n",
       "      <td>-0.004710</td>\n",
       "    </tr>\n",
       "    <tr>\n",
       "      <th>CoapplicantIncome</th>\n",
       "      <td>-0.116605</td>\n",
       "      <td>1.000000</td>\n",
       "      <td>0.189723</td>\n",
       "      <td>-0.059383</td>\n",
       "      <td>0.011134</td>\n",
       "      <td>-0.059187</td>\n",
       "    </tr>\n",
       "    <tr>\n",
       "      <th>LoanAmount</th>\n",
       "      <td>0.564698</td>\n",
       "      <td>0.189723</td>\n",
       "      <td>1.000000</td>\n",
       "      <td>0.037152</td>\n",
       "      <td>-0.000250</td>\n",
       "      <td>-0.031808</td>\n",
       "    </tr>\n",
       "    <tr>\n",
       "      <th>Loan_Amount_Term</th>\n",
       "      <td>-0.046531</td>\n",
       "      <td>-0.059383</td>\n",
       "      <td>0.037152</td>\n",
       "      <td>1.000000</td>\n",
       "      <td>-0.004705</td>\n",
       "      <td>-0.022549</td>\n",
       "    </tr>\n",
       "    <tr>\n",
       "      <th>Credit_History</th>\n",
       "      <td>-0.018615</td>\n",
       "      <td>0.011134</td>\n",
       "      <td>-0.000250</td>\n",
       "      <td>-0.004705</td>\n",
       "      <td>1.000000</td>\n",
       "      <td>0.540556</td>\n",
       "    </tr>\n",
       "    <tr>\n",
       "      <th>Loan_Status</th>\n",
       "      <td>-0.004710</td>\n",
       "      <td>-0.059187</td>\n",
       "      <td>-0.031808</td>\n",
       "      <td>-0.022549</td>\n",
       "      <td>0.540556</td>\n",
       "      <td>1.000000</td>\n",
       "    </tr>\n",
       "  </tbody>\n",
       "</table>\n",
       "</div>"
      ],
      "text/plain": [
       "                   ApplicantIncome  CoapplicantIncome  LoanAmount  \\\n",
       "ApplicantIncome           1.000000          -0.116605    0.564698   \n",
       "CoapplicantIncome        -0.116605           1.000000    0.189723   \n",
       "LoanAmount                0.564698           0.189723    1.000000   \n",
       "Loan_Amount_Term         -0.046531          -0.059383    0.037152   \n",
       "Credit_History           -0.018615           0.011134   -0.000250   \n",
       "Loan_Status              -0.004710          -0.059187   -0.031808   \n",
       "\n",
       "                   Loan_Amount_Term  Credit_History  Loan_Status  \n",
       "ApplicantIncome           -0.046531       -0.018615    -0.004710  \n",
       "CoapplicantIncome         -0.059383        0.011134    -0.059187  \n",
       "LoanAmount                 0.037152       -0.000250    -0.031808  \n",
       "Loan_Amount_Term           1.000000       -0.004705    -0.022549  \n",
       "Credit_History            -0.004705        1.000000     0.540556  \n",
       "Loan_Status               -0.022549        0.540556     1.000000  "
      ]
     },
     "execution_count": 142,
     "metadata": {},
     "output_type": "execute_result"
    }
   ],
   "source": [
    "LoanPredict.corr()"
   ]
  },
  {
   "cell_type": "code",
   "execution_count": 144,
   "metadata": {},
   "outputs": [
    {
     "name": "stdout",
     "output_type": "stream",
     "text": [
      "<class 'pandas.core.frame.DataFrame'>\n",
      "RangeIndex: 614 entries, 0 to 613\n",
      "Data columns (total 12 columns):\n",
      "Gender               614 non-null object\n",
      "Married              614 non-null object\n",
      "Dependents           614 non-null object\n",
      "Education            614 non-null object\n",
      "Self_Employed        614 non-null object\n",
      "ApplicantIncome      614 non-null int64\n",
      "CoapplicantIncome    614 non-null float64\n",
      "LoanAmount           614 non-null float64\n",
      "Loan_Amount_Term     614 non-null float64\n",
      "Credit_History       614 non-null float64\n",
      "Property_Area        614 non-null object\n",
      "Loan_Status          614 non-null int32\n",
      "dtypes: float64(4), int32(1), int64(1), object(6)\n",
      "memory usage: 55.2+ KB\n"
     ]
    }
   ],
   "source": [
    "LoanPredict.info()"
   ]
  },
  {
   "cell_type": "code",
   "execution_count": 145,
   "metadata": {},
   "outputs": [],
   "source": [
    "Encodcols = LoanPredict.select_dtypes(include=['object'])\n",
    "Numcols = LoanPredict.select_dtypes(include = np.number)"
   ]
  },
  {
   "cell_type": "code",
   "execution_count": 148,
   "metadata": {},
   "outputs": [],
   "source": [
    "Encodcolumn = pd.get_dummies(Encodcols, drop_first=True)"
   ]
  },
  {
   "cell_type": "code",
   "execution_count": 159,
   "metadata": {},
   "outputs": [],
   "source": [
    "LoanPredictDf = pd.concat([Numcols,Encodcolumn],axis=1)"
   ]
  },
  {
   "cell_type": "code",
   "execution_count": 170,
   "metadata": {},
   "outputs": [],
   "source": [
    "from sklearn.preprocessing import StandardScaler\n",
    "scaler = StandardScaler()"
   ]
  },
  {
   "cell_type": "code",
   "execution_count": 154,
   "metadata": {
    "scrolled": false
   },
   "outputs": [
    {
     "name": "stderr",
     "output_type": "stream",
     "text": [
      "C:\\Users\\User\\Anaconda3\\lib\\site-packages\\sklearn\\preprocessing\\data.py:625: DataConversionWarning: Data with input dtype uint8, int32, int64, float64 were all converted to float64 by StandardScaler.\n",
      "  return self.partial_fit(X, y)\n",
      "C:\\Users\\User\\Anaconda3\\lib\\site-packages\\sklearn\\base.py:462: DataConversionWarning: Data with input dtype uint8, int32, int64, float64 were all converted to float64 by StandardScaler.\n",
      "  return self.fit(X, **fit_params).transform(X)\n"
     ]
    }
   ],
   "source": [
    "LoanPredictscaled = scaler.fit_transform(LoanPredictDf)"
   ]
  },
  {
   "cell_type": "code",
   "execution_count": 161,
   "metadata": {},
   "outputs": [],
   "source": [
    "y = LoanPredictDf['Loan_Status']\n",
    "X = LoanPredictDf.drop('Loan_Status',axis = 1)"
   ]
  },
  {
   "cell_type": "code",
   "execution_count": 162,
   "metadata": {
    "scrolled": true
   },
   "outputs": [],
   "source": [
    "from sklearn.model_selection import train_test_split\n",
    "X_train, X_test, y_train, y_test = train_test_split(X,y,test_size = 0.2, random_state = 101)"
   ]
  },
  {
   "cell_type": "code",
   "execution_count": 192,
   "metadata": {},
   "outputs": [],
   "source": [
    "from sklearn.linear_model import LogisticRegression\n",
    "Logit = LogisticRegression()"
   ]
  },
  {
   "cell_type": "code",
   "execution_count": 193,
   "metadata": {},
   "outputs": [
    {
     "name": "stderr",
     "output_type": "stream",
     "text": [
      "C:\\Users\\User\\Anaconda3\\lib\\site-packages\\sklearn\\linear_model\\logistic.py:433: FutureWarning: Default solver will be changed to 'lbfgs' in 0.22. Specify a solver to silence this warning.\n",
      "  FutureWarning)\n"
     ]
    }
   ],
   "source": [
    "LoanPredLog = Logit.fit(X_train,y_train)"
   ]
  },
  {
   "cell_type": "code",
   "execution_count": 194,
   "metadata": {},
   "outputs": [],
   "source": [
    "LoanPredLogFinal = LoanPredLog.predict(X_test)"
   ]
  },
  {
   "cell_type": "code",
   "execution_count": 195,
   "metadata": {},
   "outputs": [],
   "source": [
    "from sklearn.metrics import accuracy_score"
   ]
  },
  {
   "cell_type": "code",
   "execution_count": 196,
   "metadata": {},
   "outputs": [
    {
     "name": "stdout",
     "output_type": "stream",
     "text": [
      "Accuracy Score in Log Reg without scaling : 0.7886178861788617\n"
     ]
    }
   ],
   "source": [
    "print('Accuracy Score in Log Reg without scaling :',accuracy_score(LoanPredLogFinal,y_test))"
   ]
  },
  {
   "cell_type": "code",
   "execution_count": 176,
   "metadata": {},
   "outputs": [
    {
     "name": "stderr",
     "output_type": "stream",
     "text": [
      "C:\\Users\\User\\Anaconda3\\lib\\site-packages\\sklearn\\preprocessing\\data.py:625: DataConversionWarning: Data with input dtype uint8, int64, float64 were all converted to float64 by StandardScaler.\n",
      "  return self.partial_fit(X, y)\n",
      "C:\\Users\\User\\Anaconda3\\lib\\site-packages\\sklearn\\base.py:462: DataConversionWarning: Data with input dtype uint8, int64, float64 were all converted to float64 by StandardScaler.\n",
      "  return self.fit(X, **fit_params).transform(X)\n",
      "C:\\Users\\User\\Anaconda3\\lib\\site-packages\\ipykernel_launcher.py:2: DataConversionWarning: Data with input dtype uint8, int64, float64 were all converted to float64 by StandardScaler.\n",
      "  \n"
     ]
    }
   ],
   "source": [
    "ScaledTrain = scaler.fit_transform(X_train)\n",
    "ScaledTest = scaler.transform(X_test)"
   ]
  },
  {
   "cell_type": "code",
   "execution_count": 173,
   "metadata": {
    "scrolled": true
   },
   "outputs": [
    {
     "name": "stderr",
     "output_type": "stream",
     "text": [
      "C:\\Users\\User\\Anaconda3\\lib\\site-packages\\sklearn\\linear_model\\logistic.py:433: FutureWarning: Default solver will be changed to 'lbfgs' in 0.22. Specify a solver to silence this warning.\n",
      "  FutureWarning)\n"
     ]
    }
   ],
   "source": [
    "LoanPredScaledLog = Logit.fit(ScaledTrain,y_train)\n",
    "LoanPredLogScaledFinal = LoanPredScaledLog.predict(ScaledTest)"
   ]
  },
  {
   "cell_type": "code",
   "execution_count": 174,
   "metadata": {
    "scrolled": true
   },
   "outputs": [
    {
     "name": "stdout",
     "output_type": "stream",
     "text": [
      "Accuracy Score in Log Reg post scaling : 0.7967479674796748\n"
     ]
    }
   ],
   "source": [
    "print('Accuracy Score in Log Reg post scaling :',accuracy_score(LoanPredLogScaledFinal,y_test))"
   ]
  },
  {
   "cell_type": "code",
   "execution_count": 180,
   "metadata": {},
   "outputs": [],
   "source": [
    "from sklearn.ensemble import RandomForestClassifier\n",
    "RFC = RandomForestClassifier (criterion='gini')"
   ]
  },
  {
   "cell_type": "code",
   "execution_count": 181,
   "metadata": {},
   "outputs": [
    {
     "name": "stderr",
     "output_type": "stream",
     "text": [
      "C:\\Users\\User\\Anaconda3\\lib\\site-packages\\sklearn\\ensemble\\forest.py:246: FutureWarning: The default value of n_estimators will change from 10 in version 0.20 to 100 in 0.22.\n",
      "  \"10 in version 0.20 to 100 in 0.22.\", FutureWarning)\n"
     ]
    }
   ],
   "source": [
    "RFLoanPred = RFC.fit(ScaledTrain,y_train)"
   ]
  },
  {
   "cell_type": "code",
   "execution_count": 197,
   "metadata": {},
   "outputs": [],
   "source": [
    "RFLoanPredFInal = RFLoanPred.predict(ScaledTest)"
   ]
  },
  {
   "cell_type": "code",
   "execution_count": 198,
   "metadata": {},
   "outputs": [
    {
     "name": "stdout",
     "output_type": "stream",
     "text": [
      "Accuracy Score in RF Class without Tuning : 0.7967479674796748\n"
     ]
    }
   ],
   "source": [
    "print('Accuracy Score in RF Class without Tuning :',accuracy_score(RFLoanPredFInal,y_test))"
   ]
  },
  {
   "cell_type": "code",
   "execution_count": 201,
   "metadata": {},
   "outputs": [],
   "source": [
    "from sklearn.model_selection import GridSearchCV\n"
   ]
  },
  {
   "cell_type": "code",
   "execution_count": 220,
   "metadata": {},
   "outputs": [],
   "source": [
    "params = {'n_estimators':[225,250,275],'max_depth':[1,2,3],\n",
    "         'min_samples_leaf':[1,2,3]}"
   ]
  },
  {
   "cell_type": "code",
   "execution_count": 221,
   "metadata": {},
   "outputs": [],
   "source": [
    "GS = GridSearchCV(RFLoanPred,params,verbose=3)"
   ]
  },
  {
   "cell_type": "code",
   "execution_count": 222,
   "metadata": {},
   "outputs": [
    {
     "name": "stderr",
     "output_type": "stream",
     "text": [
      "C:\\Users\\User\\Anaconda3\\lib\\site-packages\\sklearn\\model_selection\\_split.py:2053: FutureWarning: You should specify a value for 'cv' instead of relying on the default value. The default value will change from 3 to 5 in version 0.22.\n",
      "  warnings.warn(CV_WARNING, FutureWarning)\n",
      "[Parallel(n_jobs=1)]: Using backend SequentialBackend with 1 concurrent workers.\n",
      "[Parallel(n_jobs=1)]: Done   1 out of   1 | elapsed:    0.1s remaining:    0.0s\n"
     ]
    },
    {
     "name": "stdout",
     "output_type": "stream",
     "text": [
      "Fitting 3 folds for each of 27 candidates, totalling 81 fits\n",
      "[CV] max_depth=1, min_samples_leaf=1, n_estimators=225 ...............\n",
      "[CV]  max_depth=1, min_samples_leaf=1, n_estimators=225, score=0.7012195121951219, total=   0.1s\n",
      "[CV] max_depth=1, min_samples_leaf=1, n_estimators=225 ...............\n",
      "[CV]  max_depth=1, min_samples_leaf=1, n_estimators=225, score=0.7012195121951219, total=   0.1s\n",
      "[CV] max_depth=1, min_samples_leaf=1, n_estimators=225 ...............\n",
      "[CV]  max_depth=1, min_samples_leaf=1, n_estimators=225, score=0.6993865030674846, total=   0.0s\n",
      "[CV] max_depth=1, min_samples_leaf=1, n_estimators=250 ...............\n"
     ]
    },
    {
     "name": "stderr",
     "output_type": "stream",
     "text": [
      "[Parallel(n_jobs=1)]: Done   2 out of   2 | elapsed:    0.3s remaining:    0.0s\n"
     ]
    },
    {
     "name": "stdout",
     "output_type": "stream",
     "text": [
      "[CV]  max_depth=1, min_samples_leaf=1, n_estimators=250, score=0.7012195121951219, total=   0.1s\n",
      "[CV] max_depth=1, min_samples_leaf=1, n_estimators=250 ...............\n",
      "[CV]  max_depth=1, min_samples_leaf=1, n_estimators=250, score=0.7012195121951219, total=   0.1s\n",
      "[CV] max_depth=1, min_samples_leaf=1, n_estimators=250 ...............\n",
      "[CV]  max_depth=1, min_samples_leaf=1, n_estimators=250, score=0.6993865030674846, total=   0.1s\n",
      "[CV] max_depth=1, min_samples_leaf=1, n_estimators=275 ...............\n",
      "[CV]  max_depth=1, min_samples_leaf=1, n_estimators=275, score=0.7012195121951219, total=   0.1s\n",
      "[CV] max_depth=1, min_samples_leaf=1, n_estimators=275 ...............\n",
      "[CV]  max_depth=1, min_samples_leaf=1, n_estimators=275, score=0.7012195121951219, total=   0.1s\n",
      "[CV] max_depth=1, min_samples_leaf=1, n_estimators=275 ...............\n",
      "[CV]  max_depth=1, min_samples_leaf=1, n_estimators=275, score=0.6993865030674846, total=   0.1s\n",
      "[CV] max_depth=1, min_samples_leaf=2, n_estimators=225 ...............\n",
      "[CV]  max_depth=1, min_samples_leaf=2, n_estimators=225, score=0.7012195121951219, total=   0.0s\n",
      "[CV] max_depth=1, min_samples_leaf=2, n_estimators=225 ...............\n",
      "[CV]  max_depth=1, min_samples_leaf=2, n_estimators=225, score=0.7012195121951219, total=   0.1s\n",
      "[CV] max_depth=1, min_samples_leaf=2, n_estimators=225 ...............\n",
      "[CV]  max_depth=1, min_samples_leaf=2, n_estimators=225, score=0.6993865030674846, total=   0.0s\n",
      "[CV] max_depth=1, min_samples_leaf=2, n_estimators=250 ...............\n",
      "[CV]  max_depth=1, min_samples_leaf=2, n_estimators=250, score=0.7012195121951219, total=   0.1s\n",
      "[CV] max_depth=1, min_samples_leaf=2, n_estimators=250 ...............\n",
      "[CV]  max_depth=1, min_samples_leaf=2, n_estimators=250, score=0.7012195121951219, total=   0.1s\n",
      "[CV] max_depth=1, min_samples_leaf=2, n_estimators=250 ...............\n",
      "[CV]  max_depth=1, min_samples_leaf=2, n_estimators=250, score=0.6993865030674846, total=   0.1s\n",
      "[CV] max_depth=1, min_samples_leaf=2, n_estimators=275 ...............\n",
      "[CV]  max_depth=1, min_samples_leaf=2, n_estimators=275, score=0.7073170731707317, total=   0.1s\n",
      "[CV] max_depth=1, min_samples_leaf=2, n_estimators=275 ...............\n",
      "[CV]  max_depth=1, min_samples_leaf=2, n_estimators=275, score=0.7012195121951219, total=   0.1s\n",
      "[CV] max_depth=1, min_samples_leaf=2, n_estimators=275 ...............\n",
      "[CV]  max_depth=1, min_samples_leaf=2, n_estimators=275, score=0.6993865030674846, total=   0.1s\n",
      "[CV] max_depth=1, min_samples_leaf=3, n_estimators=225 ...............\n",
      "[CV]  max_depth=1, min_samples_leaf=3, n_estimators=225, score=0.7012195121951219, total=   0.1s\n",
      "[CV] max_depth=1, min_samples_leaf=3, n_estimators=225 ...............\n",
      "[CV]  max_depth=1, min_samples_leaf=3, n_estimators=225, score=0.7012195121951219, total=   0.0s\n",
      "[CV] max_depth=1, min_samples_leaf=3, n_estimators=225 ...............\n",
      "[CV]  max_depth=1, min_samples_leaf=3, n_estimators=225, score=0.6993865030674846, total=   0.1s\n",
      "[CV] max_depth=1, min_samples_leaf=3, n_estimators=250 ...............\n",
      "[CV]  max_depth=1, min_samples_leaf=3, n_estimators=250, score=0.7012195121951219, total=   0.1s\n",
      "[CV] max_depth=1, min_samples_leaf=3, n_estimators=250 ...............\n",
      "[CV]  max_depth=1, min_samples_leaf=3, n_estimators=250, score=0.7012195121951219, total=   0.1s\n",
      "[CV] max_depth=1, min_samples_leaf=3, n_estimators=250 ...............\n",
      "[CV]  max_depth=1, min_samples_leaf=3, n_estimators=250, score=0.6993865030674846, total=   0.1s\n",
      "[CV] max_depth=1, min_samples_leaf=3, n_estimators=275 ...............\n",
      "[CV]  max_depth=1, min_samples_leaf=3, n_estimators=275, score=0.7012195121951219, total=   0.1s\n",
      "[CV] max_depth=1, min_samples_leaf=3, n_estimators=275 ...............\n",
      "[CV]  max_depth=1, min_samples_leaf=3, n_estimators=275, score=0.7012195121951219, total=   0.1s\n",
      "[CV] max_depth=1, min_samples_leaf=3, n_estimators=275 ...............\n",
      "[CV]  max_depth=1, min_samples_leaf=3, n_estimators=275, score=0.6993865030674846, total=   0.1s\n",
      "[CV] max_depth=2, min_samples_leaf=1, n_estimators=225 ...............\n",
      "[CV]  max_depth=2, min_samples_leaf=1, n_estimators=225, score=0.7987804878048781, total=   0.0s\n",
      "[CV] max_depth=2, min_samples_leaf=1, n_estimators=225 ...............\n",
      "[CV]  max_depth=2, min_samples_leaf=1, n_estimators=225, score=0.7804878048780488, total=   0.1s\n",
      "[CV] max_depth=2, min_samples_leaf=1, n_estimators=225 ...............\n",
      "[CV]  max_depth=2, min_samples_leaf=1, n_estimators=225, score=0.7852760736196319, total=   0.1s\n",
      "[CV] max_depth=2, min_samples_leaf=1, n_estimators=250 ...............\n",
      "[CV]  max_depth=2, min_samples_leaf=1, n_estimators=250, score=0.7987804878048781, total=   0.1s\n",
      "[CV] max_depth=2, min_samples_leaf=1, n_estimators=250 ...............\n",
      "[CV]  max_depth=2, min_samples_leaf=1, n_estimators=250, score=0.7926829268292683, total=   0.1s\n",
      "[CV] max_depth=2, min_samples_leaf=1, n_estimators=250 ...............\n",
      "[CV]  max_depth=2, min_samples_leaf=1, n_estimators=250, score=0.7791411042944786, total=   0.1s\n",
      "[CV] max_depth=2, min_samples_leaf=1, n_estimators=275 ...............\n",
      "[CV]  max_depth=2, min_samples_leaf=1, n_estimators=275, score=0.7987804878048781, total=   0.1s\n",
      "[CV] max_depth=2, min_samples_leaf=1, n_estimators=275 ...............\n",
      "[CV]  max_depth=2, min_samples_leaf=1, n_estimators=275, score=0.75, total=   0.1s\n",
      "[CV] max_depth=2, min_samples_leaf=1, n_estimators=275 ...............\n",
      "[CV]  max_depth=2, min_samples_leaf=1, n_estimators=275, score=0.8098159509202454, total=   0.1s\n",
      "[CV] max_depth=2, min_samples_leaf=2, n_estimators=225 ...............\n",
      "[CV]  max_depth=2, min_samples_leaf=2, n_estimators=225, score=0.75, total=   0.1s\n",
      "[CV] max_depth=2, min_samples_leaf=2, n_estimators=225 ...............\n",
      "[CV]  max_depth=2, min_samples_leaf=2, n_estimators=225, score=0.7865853658536586, total=   0.1s\n",
      "[CV] max_depth=2, min_samples_leaf=2, n_estimators=225 ...............\n",
      "[CV]  max_depth=2, min_samples_leaf=2, n_estimators=225, score=0.7791411042944786, total=   0.1s\n",
      "[CV] max_depth=2, min_samples_leaf=2, n_estimators=250 ...............\n",
      "[CV]  max_depth=2, min_samples_leaf=2, n_estimators=250, score=0.7987804878048781, total=   0.1s\n",
      "[CV] max_depth=2, min_samples_leaf=2, n_estimators=250 ...............\n",
      "[CV]  max_depth=2, min_samples_leaf=2, n_estimators=250, score=0.7865853658536586, total=   0.1s\n",
      "[CV] max_depth=2, min_samples_leaf=2, n_estimators=250 ...............\n",
      "[CV]  max_depth=2, min_samples_leaf=2, n_estimators=250, score=0.7914110429447853, total=   0.1s\n",
      "[CV] max_depth=2, min_samples_leaf=2, n_estimators=275 ...............\n",
      "[CV]  max_depth=2, min_samples_leaf=2, n_estimators=275, score=0.7987804878048781, total=   0.1s\n",
      "[CV] max_depth=2, min_samples_leaf=2, n_estimators=275 ...............\n",
      "[CV]  max_depth=2, min_samples_leaf=2, n_estimators=275, score=0.7439024390243902, total=   0.1s\n",
      "[CV] max_depth=2, min_samples_leaf=2, n_estimators=275 ...............\n",
      "[CV]  max_depth=2, min_samples_leaf=2, n_estimators=275, score=0.7484662576687117, total=   0.1s\n",
      "[CV] max_depth=2, min_samples_leaf=3, n_estimators=225 ...............\n",
      "[CV]  max_depth=2, min_samples_leaf=3, n_estimators=225, score=0.7987804878048781, total=   0.1s\n",
      "[CV] max_depth=2, min_samples_leaf=3, n_estimators=225 ...............\n",
      "[CV]  max_depth=2, min_samples_leaf=3, n_estimators=225, score=0.7804878048780488, total=   0.1s\n",
      "[CV] max_depth=2, min_samples_leaf=3, n_estimators=225 ...............\n",
      "[CV]  max_depth=2, min_samples_leaf=3, n_estimators=225, score=0.7730061349693251, total=   0.1s\n",
      "[CV] max_depth=2, min_samples_leaf=3, n_estimators=250 ...............\n",
      "[CV]  max_depth=2, min_samples_leaf=3, n_estimators=250, score=0.7987804878048781, total=   0.1s\n",
      "[CV] max_depth=2, min_samples_leaf=3, n_estimators=250 ...............\n",
      "[CV]  max_depth=2, min_samples_leaf=3, n_estimators=250, score=0.7987804878048781, total=   0.1s\n",
      "[CV] max_depth=2, min_samples_leaf=3, n_estimators=250 ...............\n",
      "[CV]  max_depth=2, min_samples_leaf=3, n_estimators=250, score=0.7914110429447853, total=   0.1s\n",
      "[CV] max_depth=2, min_samples_leaf=3, n_estimators=275 ...............\n",
      "[CV]  max_depth=2, min_samples_leaf=3, n_estimators=275, score=0.7987804878048781, total=   0.1s\n",
      "[CV] max_depth=2, min_samples_leaf=3, n_estimators=275 ...............\n"
     ]
    },
    {
     "name": "stdout",
     "output_type": "stream",
     "text": [
      "[CV]  max_depth=2, min_samples_leaf=3, n_estimators=275, score=0.7804878048780488, total=   0.1s\n",
      "[CV] max_depth=2, min_samples_leaf=3, n_estimators=275 ...............\n",
      "[CV]  max_depth=2, min_samples_leaf=3, n_estimators=275, score=0.7791411042944786, total=   0.1s\n",
      "[CV] max_depth=3, min_samples_leaf=1, n_estimators=225 ...............\n",
      "[CV]  max_depth=3, min_samples_leaf=1, n_estimators=225, score=0.7987804878048781, total=   0.1s\n",
      "[CV] max_depth=3, min_samples_leaf=1, n_estimators=225 ...............\n",
      "[CV]  max_depth=3, min_samples_leaf=1, n_estimators=225, score=0.823170731707317, total=   0.1s\n",
      "[CV] max_depth=3, min_samples_leaf=1, n_estimators=225 ...............\n",
      "[CV]  max_depth=3, min_samples_leaf=1, n_estimators=225, score=0.8098159509202454, total=   0.1s\n",
      "[CV] max_depth=3, min_samples_leaf=1, n_estimators=250 ...............\n",
      "[CV]  max_depth=3, min_samples_leaf=1, n_estimators=250, score=0.7987804878048781, total=   0.1s\n",
      "[CV] max_depth=3, min_samples_leaf=1, n_estimators=250 ...............\n",
      "[CV]  max_depth=3, min_samples_leaf=1, n_estimators=250, score=0.8109756097560976, total=   0.1s\n",
      "[CV] max_depth=3, min_samples_leaf=1, n_estimators=250 ...............\n",
      "[CV]  max_depth=3, min_samples_leaf=1, n_estimators=250, score=0.8098159509202454, total=   0.1s\n",
      "[CV] max_depth=3, min_samples_leaf=1, n_estimators=275 ...............\n",
      "[CV]  max_depth=3, min_samples_leaf=1, n_estimators=275, score=0.7987804878048781, total=   0.1s\n",
      "[CV] max_depth=3, min_samples_leaf=1, n_estimators=275 ...............\n",
      "[CV]  max_depth=3, min_samples_leaf=1, n_estimators=275, score=0.8170731707317073, total=   0.1s\n",
      "[CV] max_depth=3, min_samples_leaf=1, n_estimators=275 ...............\n",
      "[CV]  max_depth=3, min_samples_leaf=1, n_estimators=275, score=0.8098159509202454, total=   0.1s\n",
      "[CV] max_depth=3, min_samples_leaf=2, n_estimators=225 ...............\n",
      "[CV]  max_depth=3, min_samples_leaf=2, n_estimators=225, score=0.7987804878048781, total=   0.1s\n",
      "[CV] max_depth=3, min_samples_leaf=2, n_estimators=225 ...............\n",
      "[CV]  max_depth=3, min_samples_leaf=2, n_estimators=225, score=0.823170731707317, total=   0.1s\n",
      "[CV] max_depth=3, min_samples_leaf=2, n_estimators=225 ...............\n",
      "[CV]  max_depth=3, min_samples_leaf=2, n_estimators=225, score=0.803680981595092, total=   0.1s\n",
      "[CV] max_depth=3, min_samples_leaf=2, n_estimators=250 ...............\n",
      "[CV]  max_depth=3, min_samples_leaf=2, n_estimators=250, score=0.7987804878048781, total=   0.1s\n",
      "[CV] max_depth=3, min_samples_leaf=2, n_estimators=250 ...............\n",
      "[CV]  max_depth=3, min_samples_leaf=2, n_estimators=250, score=0.8292682926829268, total=   0.1s\n",
      "[CV] max_depth=3, min_samples_leaf=2, n_estimators=250 ...............\n",
      "[CV]  max_depth=3, min_samples_leaf=2, n_estimators=250, score=0.8098159509202454, total=   0.1s\n",
      "[CV] max_depth=3, min_samples_leaf=2, n_estimators=275 ...............\n",
      "[CV]  max_depth=3, min_samples_leaf=2, n_estimators=275, score=0.7987804878048781, total=   0.1s\n",
      "[CV] max_depth=3, min_samples_leaf=2, n_estimators=275 ...............\n",
      "[CV]  max_depth=3, min_samples_leaf=2, n_estimators=275, score=0.8292682926829268, total=   0.1s\n",
      "[CV] max_depth=3, min_samples_leaf=2, n_estimators=275 ...............\n",
      "[CV]  max_depth=3, min_samples_leaf=2, n_estimators=275, score=0.8098159509202454, total=   0.1s\n",
      "[CV] max_depth=3, min_samples_leaf=3, n_estimators=225 ...............\n",
      "[CV]  max_depth=3, min_samples_leaf=3, n_estimators=225, score=0.7987804878048781, total=   0.1s\n",
      "[CV] max_depth=3, min_samples_leaf=3, n_estimators=225 ...............\n",
      "[CV]  max_depth=3, min_samples_leaf=3, n_estimators=225, score=0.8048780487804879, total=   0.1s\n",
      "[CV] max_depth=3, min_samples_leaf=3, n_estimators=225 ...............\n",
      "[CV]  max_depth=3, min_samples_leaf=3, n_estimators=225, score=0.8098159509202454, total=   0.1s\n",
      "[CV] max_depth=3, min_samples_leaf=3, n_estimators=250 ...............\n",
      "[CV]  max_depth=3, min_samples_leaf=3, n_estimators=250, score=0.7987804878048781, total=   0.1s\n",
      "[CV] max_depth=3, min_samples_leaf=3, n_estimators=250 ...............\n",
      "[CV]  max_depth=3, min_samples_leaf=3, n_estimators=250, score=0.8292682926829268, total=   0.1s\n",
      "[CV] max_depth=3, min_samples_leaf=3, n_estimators=250 ...............\n",
      "[CV]  max_depth=3, min_samples_leaf=3, n_estimators=250, score=0.8098159509202454, total=   0.1s\n",
      "[CV] max_depth=3, min_samples_leaf=3, n_estimators=275 ...............\n",
      "[CV]  max_depth=3, min_samples_leaf=3, n_estimators=275, score=0.7987804878048781, total=   0.1s\n",
      "[CV] max_depth=3, min_samples_leaf=3, n_estimators=275 ...............\n",
      "[CV]  max_depth=3, min_samples_leaf=3, n_estimators=275, score=0.8292682926829268, total=   0.1s\n",
      "[CV] max_depth=3, min_samples_leaf=3, n_estimators=275 ...............\n",
      "[CV]  max_depth=3, min_samples_leaf=3, n_estimators=275, score=0.8098159509202454, total=   0.1s\n"
     ]
    },
    {
     "name": "stderr",
     "output_type": "stream",
     "text": [
      "[Parallel(n_jobs=1)]: Done  81 out of  81 | elapsed:   16.4s finished\n"
     ]
    },
    {
     "data": {
      "text/plain": [
       "GridSearchCV(cv='warn', error_score='raise-deprecating',\n",
       "       estimator=RandomForestClassifier(bootstrap=True, class_weight=None, criterion='gini',\n",
       "            max_depth=None, max_features='auto', max_leaf_nodes=None,\n",
       "            min_impurity_decrease=0.0, min_impurity_split=None,\n",
       "            min_samples_leaf=1, min_samples_split=2,\n",
       "            min_weight_fraction_leaf=0.0, n_estimators=10, n_jobs=None,\n",
       "            oob_score=False, random_state=None, verbose=0,\n",
       "            warm_start=False),\n",
       "       fit_params=None, iid='warn', n_jobs=None,\n",
       "       param_grid={'n_estimators': [225, 250, 275], 'max_depth': [1, 2, 3], 'min_samples_leaf': [1, 2, 3]},\n",
       "       pre_dispatch='2*n_jobs', refit=True, return_train_score='warn',\n",
       "       scoring=None, verbose=3)"
      ]
     },
     "execution_count": 222,
     "metadata": {},
     "output_type": "execute_result"
    }
   ],
   "source": [
    "GS.fit(ScaledTrain,y_train)"
   ]
  },
  {
   "cell_type": "code",
   "execution_count": 223,
   "metadata": {},
   "outputs": [
    {
     "data": {
      "text/plain": [
       "{'max_depth': 3, 'min_samples_leaf': 2, 'n_estimators': 250}"
      ]
     },
     "execution_count": 223,
     "metadata": {},
     "output_type": "execute_result"
    }
   ],
   "source": [
    "GS.best_params_"
   ]
  },
  {
   "cell_type": "code",
   "execution_count": 224,
   "metadata": {},
   "outputs": [
    {
     "data": {
      "text/plain": [
       "RandomForestClassifier(bootstrap=True, class_weight=None, criterion='gini',\n",
       "            max_depth=3, max_features='auto', max_leaf_nodes=None,\n",
       "            min_impurity_decrease=0.0, min_impurity_split=None,\n",
       "            min_samples_leaf=2, min_samples_split=2,\n",
       "            min_weight_fraction_leaf=0.0, n_estimators=250, n_jobs=None,\n",
       "            oob_score=False, random_state=None, verbose=0,\n",
       "            warm_start=False)"
      ]
     },
     "execution_count": 224,
     "metadata": {},
     "output_type": "execute_result"
    }
   ],
   "source": [
    "GS.best_estimator_"
   ]
  },
  {
   "cell_type": "code",
   "execution_count": 225,
   "metadata": {},
   "outputs": [],
   "source": [
    "LoanPredictRF = RandomForestClassifier(bootstrap=True, class_weight=None, criterion='gini',\n",
    "            max_depth=3, max_features='auto', max_leaf_nodes=None,\n",
    "            min_impurity_decrease=0.0, min_impurity_split=None,\n",
    "            min_samples_leaf=2, min_samples_split=2,\n",
    "            min_weight_fraction_leaf=0.0, n_estimators=250, n_jobs=None,\n",
    "            oob_score=True, random_state=102, verbose=0,\n",
    "            warm_start=False)"
   ]
  },
  {
   "cell_type": "code",
   "execution_count": 226,
   "metadata": {},
   "outputs": [],
   "source": [
    "RFLoanPredTune = LoanPredictRF.fit(ScaledTrain,y_train)"
   ]
  },
  {
   "cell_type": "code",
   "execution_count": 227,
   "metadata": {},
   "outputs": [],
   "source": [
    "RFLoanPredTuning = RFLoanPredTune.predict(ScaledTest)"
   ]
  },
  {
   "cell_type": "code",
   "execution_count": 228,
   "metadata": {},
   "outputs": [
    {
     "name": "stdout",
     "output_type": "stream",
     "text": [
      "Accuracy Score in RF Class post Tuning : 0.7967479674796748\n"
     ]
    }
   ],
   "source": [
    "print('Accuracy Score in RF Class post Tuning :',accuracy_score(RFLoanPredTuning,y_test))"
   ]
  },
  {
   "cell_type": "code",
   "execution_count": 233,
   "metadata": {
    "scrolled": true
   },
   "outputs": [
    {
     "data": {
      "text/plain": [
       "[(0.4739606687967074, 'Credit_History'),\n",
       " (0.10290615730394356, 'CoapplicantIncome'),\n",
       " (0.07902692336002551, 'ApplicantIncome'),\n",
       " (0.0782227440458016, 'LoanAmount'),\n",
       " (0.06469051124847859, 'Property_Area_Semiurban'),\n",
       " (0.053209909729398305, 'Loan_Amount_Term'),\n",
       " (0.048313793437877124, 'Education_Not Graduate'),\n",
       " (0.025903389824092092, 'Property_Area_Urban'),\n",
       " (0.020000317459333564, 'Married_Yes'),\n",
       " (0.016717682496585246, 'Dependents_3+'),\n",
       " (0.015867023535152756, 'Dependents_2'),\n",
       " (0.008660661352110747, 'Self_Employed_Yes'),\n",
       " (0.0067641328313723615, 'Dependents_1'),\n",
       " (0.005756084579121131, 'Gender_Male')]"
      ]
     },
     "execution_count": 233,
     "metadata": {},
     "output_type": "execute_result"
    }
   ],
   "source": [
    "sorted(list(zip(RFLoanPredTune.feature_importances_,X.columns)), reverse=True)"
   ]
  },
  {
   "cell_type": "code",
   "execution_count": 236,
   "metadata": {},
   "outputs": [],
   "source": [
    "XtrainFI = X_train.drop(['Self_Employed_Yes','Dependents_1','Gender_Male'],axis = 1)\n",
    "XtestFI = X_test.drop(['Self_Employed_Yes','Dependents_1','Gender_Male'],axis=1)"
   ]
  },
  {
   "cell_type": "code",
   "execution_count": 237,
   "metadata": {},
   "outputs": [
    {
     "name": "stderr",
     "output_type": "stream",
     "text": [
      "C:\\Users\\User\\Anaconda3\\lib\\site-packages\\sklearn\\preprocessing\\data.py:625: DataConversionWarning: Data with input dtype uint8, int64, float64 were all converted to float64 by StandardScaler.\n",
      "  return self.partial_fit(X, y)\n",
      "C:\\Users\\User\\Anaconda3\\lib\\site-packages\\sklearn\\base.py:462: DataConversionWarning: Data with input dtype uint8, int64, float64 were all converted to float64 by StandardScaler.\n",
      "  return self.fit(X, **fit_params).transform(X)\n",
      "C:\\Users\\User\\Anaconda3\\lib\\site-packages\\ipykernel_launcher.py:2: DataConversionWarning: Data with input dtype uint8, int64, float64 were all converted to float64 by StandardScaler.\n",
      "  \n"
     ]
    }
   ],
   "source": [
    "ScaledXtrainFI = scaler.fit_transform(XtrainFI)\n",
    "ScaledXtestFI = scaler.transform(XtestFI)"
   ]
  },
  {
   "cell_type": "code",
   "execution_count": 238,
   "metadata": {},
   "outputs": [],
   "source": [
    "LoanPredictRFFI = RandomForestClassifier(bootstrap=True, class_weight=None, criterion='gini',\n",
    "            max_depth=3, max_features='auto', max_leaf_nodes=None,\n",
    "            min_impurity_decrease=0.0, min_impurity_split=None,\n",
    "            min_samples_leaf=2, min_samples_split=2,\n",
    "            min_weight_fraction_leaf=0.0, n_estimators=250, n_jobs=None,\n",
    "            oob_score=True, random_state=102, verbose=0,\n",
    "            warm_start=False)"
   ]
  },
  {
   "cell_type": "code",
   "execution_count": 239,
   "metadata": {},
   "outputs": [],
   "source": [
    "RFLoanPredTuneFI = LoanPredictRFFI.fit(ScaledXtrainFI,y_train)\n",
    "RFLoanPredTuningFI = RFLoanPredTuneFI.predict(ScaledXtestFI)"
   ]
  },
  {
   "cell_type": "code",
   "execution_count": 240,
   "metadata": {},
   "outputs": [
    {
     "name": "stdout",
     "output_type": "stream",
     "text": [
      "Accuracy Score in RF Class post Tuning : 0.7967479674796748\n"
     ]
    }
   ],
   "source": [
    "print('Accuracy Score in RF Class post Tuning :',accuracy_score(RFLoanPredTuningFI,y_test))"
   ]
  },
  {
   "cell_type": "code",
   "execution_count": 241,
   "metadata": {},
   "outputs": [],
   "source": [
    "from sklearn.metrics import classification_report"
   ]
  },
  {
   "cell_type": "code",
   "execution_count": 243,
   "metadata": {},
   "outputs": [
    {
     "name": "stdout",
     "output_type": "stream",
     "text": [
      "              precision    recall  f1-score   support\n",
      "\n",
      "           0       0.95      0.47      0.63        45\n",
      "           1       0.76      0.99      0.86        78\n",
      "\n",
      "   micro avg       0.80      0.80      0.80       123\n",
      "   macro avg       0.86      0.73      0.74       123\n",
      "weighted avg       0.83      0.80      0.77       123\n",
      "\n"
     ]
    }
   ],
   "source": [
    "print(classification_report(y_test,RFLoanPredTuningFI))"
   ]
  },
  {
   "cell_type": "code",
   "execution_count": 244,
   "metadata": {},
   "outputs": [
    {
     "data": {
      "text/plain": [
       "0.814663951120163"
      ]
     },
     "execution_count": 244,
     "metadata": {},
     "output_type": "execute_result"
    }
   ],
   "source": [
    "RFLoanPredTuneFI.oob_score_"
   ]
  },
  {
   "cell_type": "code",
   "execution_count": 245,
   "metadata": {},
   "outputs": [],
   "source": [
    "from sklearn.metrics import confusion_matrix"
   ]
  },
  {
   "cell_type": "code",
   "execution_count": 2,
   "metadata": {},
   "outputs": [
    {
     "ename": "NameError",
     "evalue": "name 'confusion_matrix' is not defined",
     "output_type": "error",
     "traceback": [
      "\u001b[1;31m---------------------------------------------------------------------------\u001b[0m",
      "\u001b[1;31mNameError\u001b[0m                                 Traceback (most recent call last)",
      "\u001b[1;32m<ipython-input-2-65a8ddcd9cf8>\u001b[0m in \u001b[0;36m<module>\u001b[1;34m\u001b[0m\n\u001b[1;32m----> 1\u001b[1;33m \u001b[0mprint\u001b[0m\u001b[1;33m(\u001b[0m\u001b[0mconfusion_matrix\u001b[0m\u001b[1;33m(\u001b[0m\u001b[0my_test\u001b[0m\u001b[1;33m,\u001b[0m\u001b[0mRFLoanPredTuningFI\u001b[0m\u001b[1;33m)\u001b[0m\u001b[1;33m)\u001b[0m\u001b[1;33m\u001b[0m\u001b[1;33m\u001b[0m\u001b[0m\n\u001b[0m",
      "\u001b[1;31mNameError\u001b[0m: name 'confusion_matrix' is not defined"
     ]
    }
   ],
   "source": []
  }
 ],
 "metadata": {
  "kernelspec": {
   "display_name": "Python 3",
   "language": "python",
   "name": "python3"
  },
  "language_info": {
   "codemirror_mode": {
    "name": "ipython",
    "version": 3
   },
   "file_extension": ".py",
   "mimetype": "text/x-python",
   "name": "python",
   "nbconvert_exporter": "python",
   "pygments_lexer": "ipython3",
   "version": "3.7.4"
  }
 },
 "nbformat": 4,
 "nbformat_minor": 2
}
